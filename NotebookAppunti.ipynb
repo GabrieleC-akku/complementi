{
 "cells": [
  {
   "cell_type": "markdown",
   "metadata": {
    "collapsed": false
   },
   "source": [
    "___\n",
    "# **Notebook complementi**\n",
    "\n",
    "<details>\n",
    "<summary>Teoria</summary>\n",
    "\n",
    "* [Lezione1-1](#Lezione1-1)\n",
    "* [Lezione1-2](#Lezione1-2)\n",
    "* [Lezione1-3](#Lezione1-3)\n",
    "* [Lezione2-0](#Lezione2-0)\n",
    "* [Lezione2-1](#Lezione2-1)\n",
    "\n",
    "</details>\n",
    "\n",
    "<details>\n",
    "<summary>Esercizi</summary>\n",
    "\n",
    "* Vegetables\n",
    "\n",
    "</details>"
   ]
  },
  {
   "cell_type": "markdown",
   "metadata": {
    "collapsed": false
   },
   "source": [
    "___\n",
    "## Lezione1-1\n",
    "___\n",
    "<details>\n",
    "<summary>ARGOMENTI</summary>\n",
    "\n",
    "* Tipi e costrutti base\n",
    "* Liste\n",
    "* Tuple\n",
    "* Dizionari\n",
    "* Insiemi\n",
    "\n",
    "</details>\n",
    "\n",
    "___\n",
    "\n",
    "Se il risultato dell'espressione e' diverso da “None” (che significa “niente”) stampa il risultato.\n",
    "\n",
    "I Principali tipi predefiniti sono i **numbers** e le **collections**.\n",
    "* Numbers: che possono essere \n",
    "    * **Integers** ovvero degli interi normali, long int oppure booleani.\n",
    "    * **Float** normali.\n",
    "    * **Complex** ovvero un numero complesso del tipo 1+2j (non so perchè ha messo j al posto di i).\n",
    "* Collections:\n",
    "    * **Sequenze** che possono essere immutabile, in caso di stringhe e tuple, e mutabili, se sono liste o Bytearray.\n",
    "    * **Mapping** per esempio il dizionario, coppia chiave valore.\n",
    "    * **Insiemi**, per esempio **{'a',2, True}**.\n",
    "* None\n",
    "\n",
    "Tramite l'operatore **is** si possono confrontare 2 oggetti e capire se sono effettivamente la stessa cosa (x is y oppure x is not y).<br>\n",
    "Si possono anche fare i **confronti concatenati** (x<y<z>).<br>\n",
    "Si possono anche usare gli **operatori binari** (and , or , not) per verificare se una o pù variabili (che in realtà sono oggetti) siano veri o falsi.\n",
    "\n",
    "In pyhon è possibile eseguire il **cortocircuito** degli AND e degli OR. Per alcuni operatori booleani, per esempio lo **XOR**, non è possibile cortocirtuitare, perchè entrambi gli operatori sono richiesti al fine di determinare il risultato. **XOR** -> 0 quando uguali, 1 quando diversi.\n",
    "\n",
    "È importante notare che per python sono **false** le seguenti espressioni (tutto il resto è vero):\n",
    "* **None**\n",
    "* **False**\n",
    "* **0** (in ogni sua forma numerica, 0 0.0 0.0+0.0j\n",
    "* Ogni **collezione vuota** [ ] { } ( ) Set([ ]) ''\n",
    "* Un oggetto di una classe tale che **len(x)==0**\n",
    "\n",
    "Operazioni su sequenze sono diverse:\n",
    "* x **in** s, per vedere se appartiene alla sequenza, si può anche usare **not in**.\n",
    "* s1 **\\+** s2, per la concatenazione.\n",
    "* s1 **\\*** n, utilizzata per la ripetizione.\n",
    "* **s[i:j:k]**, per accedere a sottosequenze di **s** è anche possibile prendere un singolo elemento.\n",
    "* **len(s)**\n",
    "* **min(s)** e **max(s)**\n",
    "* **any(s)**, vero se almeno uno degli elementi di s risulta **vero**.\n",
    "* **all(s)**, vero se tutti gli elementi di s sono **veri**.\n",
    "\n",
    "Osserviamo ora lo **slicing** delle sequenze. Facendo **s[-1]** si ottiene l'ultimo elemento di **s**. Con l'esempio mostrato sopra si può anche accede ad un singolo **i-esimo elemento**, ottenere gli elementi che vanno dall'**i-esimo al j-esimo**, inserendo anche un **passo k**.\n",
    "\n",
    "È possibile usare gli operatori **//** (x//y) per fare la divisione intera e l'operatore **\\*\\*** (x**y) per fare la potenza con esponente y.<br>\n",
    "In più si possono utilizzare le maschere binarie e shifting del tipo: \n",
    "* **x&y** per fare l'and bit a bit\n",
    "* **x|y** per fare l'or bit a bit\n",
    "* **x^y** per fare lo xor bit a bit (da come risultato 1 se i bit in colonna sono diversi)\n",
    "* **x<<n** per shiftare a sinistra di n bit\n",
    "* **x>>n** per shiftare a destra di n bit\n",
    "\n",
    "L'assegnazione avviene in modo classico. le operazioni **++** e **-- NON ESISTONO!** **x++** è considerato errore, invece **++x** non fa nulla. Stesso ragionamento per il **-**. Vanno bene però le operazioni infisse, per esempio **%=** o **&=**.\n",
    "\n",
    "Passiamo quindi ad approfondire un po' di più tuple, operazioni sulle liste, insiemi e funzioni:\n",
    "\n",
    "Le tuple sono **sequenze NON MUTABILI**, facciamo un piccolo esempio -> (“a”,24,[1,2],{1}) tupla di 4 elementi. In mancanza di ambiguità si può assegnare anche senza utilizzo delle parentesi.<br>\n",
    "Tornano utili nelle assegnazioni:\n",
    "* Scambiare i valori di due variabili --> x,y=y,x\n",
    "* **Impacchettare** più valori in una variabile --> a=1,2,3,4\n",
    "* **Spachettare** più valori da una variabile --> x,y,z,t=ape\n",
    "\n",
    "Definiamo ora alcune operazioni eseguibili sulle sequenze mutabili:\n",
    "* **s[i]=x** per assegnare ad un elemento.\n",
    "* **s[i:j]=s2** per sostituire la sottosequenza con s2.\n",
    "* Con la parola riservata **del** si possono eliminare elementi o sequenze. Per esempio **del s[i:j]**.\n",
    " \n",
    "<details>\n",
    "<summary>Ci sono comunque importanti funzioni per manipolare le liste a proprio piacimento.</summary>\n",
    "\n",
    "* **l.append(x)** aggiunge un elemento in fondo alla lista\n",
    "* **l.pop() l.pop(i)** restituisce l'ultimo elemento (o quello di indice i) e lo toglie dalla list\n",
    "* **l.extend(s)** aggiunge ogni elemento della sequenza s in fondo\n",
    "* **l.sort()** ordina gli elementi di una lista (con argomenti si puo' specificare la chiave e la relazione per l'ordinamento)\n",
    "* **l.reverse()** inverte gli elementi di una lista\n",
    "* **l.index(x)** l'indice del primo elemento x nella lista\n",
    "* **l.insert(i,x)** inserisce l'elemento all'indice I\n",
    "* **l.count(x)** conta quanti elementi uguali a x ci sono\n",
    "* **l.remove(x)** cancella il primo elemento uguale a x\n",
    "* ecc...\n",
    "\n",
    "</details>\n",
    "\n",
    "In più si possono anche utilizzare le strutture dati **\"Insiemi\"** ovvero i **Set** dove bisogna notare delle importanti peculiarità:\n",
    "* Un **insieme vuoto** si definisce cosi': S=set() (perche' {} e' un Dizionario vuoto!).\n",
    "* **x in S**, **x not in S** si possono anche usare qua e indicano l'appartenenza all'insieme.\n",
    "* **s1<=s2 s1<s2 s1>=s2 s1>s2** sottoinsieme, sovrainsieme, improprio e proprio.\n",
    "* **s1|s2 s1&s2** insieme unione, insieme intersezione, rispettivamente.\n",
    "* **s1-s2 s1^s2** insieme differenza e insieme differenza simmetrica\n",
    "* **s.add(x) s.remove(x) s.discard(x) s.pop() s.clear()**: aggiunge un elemento, lo toglie, lo toglie solo le c'e',<br>\n",
    " toglie dall'insieme un elemento a caso e lo restituisce, cancella tutti gli elementi.\n",
    "* **len(s)** cardinalita' dell'insieme.\n",
    "\n",
    "\n",
    "In python si può fare anche uso delle funzioni."
   ]
  },
  {
   "cell_type": "code",
   "execution_count": null,
   "metadata": {},
   "outputs": [],
   "source": [
    "def sommaquadrati(x,y):\n",
    "    return x**2 + y**2\n",
    "\n",
    "print(sommaquadrati(4,5)) #stampa del valore 41"
   ]
  },
  {
   "cell_type": "markdown",
   "metadata": {},
   "source": [
    "La parola chiave **def** definisce una funzione, i **:** indicano che ciò che segue appartiene al copro della funzione e **L'indentazione** risulta obbligatoria. In python se l'istruzione che dipende è una sola può essere posta di seguito sulla stessa riga dei **:**, altrimenti vengono poste su righe diverse e vanno indentate correttamente.\n",
    "\n",
    "Inoltre è possibile scrivere funzioni che chiamano altre funzioni. **ATTENZIONE: La seconda funzione restituisce *None***, non ha la return."
   ]
  },
  {
   "cell_type": "code",
   "execution_count": null,
   "metadata": {},
   "outputs": [],
   "source": [
    "def sommaquadrati(x,y):\n",
    "    return x**2 + y**2\n",
    "def stampaquadrati(x,y):\n",
    "    sq=sommaquadrati(x,y)\n",
    "    print(\"la somma dei quadrati di\",x,\"e\",y,\"e'\",sq)\n",
    "stampaquadrati(3,4)\n",
    "stampaquadrati(4,5)"
   ]
  },
  {
   "cell_type": "markdown",
   "metadata": {},
   "source": [
    "I Parametri sono variabili locali della funzione, che copiano i valori, la modifica di esse cambiano solo il valore locale nella funzione. Per ora sono **posizionali**, ma esistono altre sintassi. Il numero dei parametri passati **deve corrispondere** al numero dei parametri previsti dalla dichiarazione, per ora, perchè anche in questo caso esistono altre sintassi.\n",
    "\n",
    "Il valore di ritorno viene specificato dal **return** che può anche restituire più valori usando le tuple."
   ]
  },
  {
   "cell_type": "code",
   "execution_count": null,
   "metadata": {},
   "outputs": [],
   "source": [
    "def sommavettori(v0,v1):\n",
    "    x0,y0=v0\n",
    "    x1,y1=v1\n",
    "    return x0+y0,x1+y1\n",
    "print(sommavettori((2,3),(3,4)))"
   ]
  },
  {
   "cell_type": "markdown",
   "metadata": {},
   "source": [
    "Adesso passiamo alla sintassi dei costrutti fondamentali come if, while, ecc... : \n",
    "<pre>\n",
    "if expr:\n",
    "    istruzione\n",
    "  elif\n",
    "    istruzione\n",
    "  elif\n",
    "    istruzione\n",
    "  else\n",
    "    istruzione\n",
    "\n",
    "while expr:\n",
    "    istruzione\n",
    "    \n",
    "for variabile in enumerabile:\n",
    "    istruzione\n",
    "</pre>\n",
    "\n",
    "Come enumerabile si intende una lista di elementi classificabili. Come lista di elementi si può anche utilizzare la funzione **range** che va a creare appunto dei range personalizzati sul momento calcolando uno alla volta gli elementi richiesti. Esistono vari utilizzi con parametri diversi:\n",
    "* **range(n)** equivale a [0,1,2,3....,n-1]\n",
    "* **range(mn,mx)** equivale a [mn,mn+1,....,mx-1]\n",
    "* **range(mn,mx,step)** uguale al precedente solo che crea la sequenza avanzando ad ogni passo non di 1 ma di un intervallo specificato (step)\n",
    "\n",
    "\n"
   ]
  },
  {
   "cell_type": "markdown",
   "metadata": {
    "collapsed": false
   },
   "source": [
    "___\n",
    "## Lezione1-2\n",
    "___\n",
    "<details>\n",
    "<summary>ARGOMENTI</summary>\n",
    "\n",
    "* Uso dizionari e delle stringhe\n",
    "* Break, continue e pass\n",
    "* Iteratori e iterabili\n",
    "* Ricorsione\n",
    "* Funzioni di ordine superiore e la norzione di closure\n",
    "\n",
    "</details>\n",
    "\n",
    "___\n",
    "\n",
    "I dizionati sono collezioni nelle quali gli elementi sono indicizzati dal valore di un dato, che è **NON MUTABILE**, e possono essere stringhe, tuple e costanti numeriche. <br>\n",
    "Diamo un esempio di codice, con vari esempi di accesso agli elementi del dizionario."
   ]
  },
  {
   "cell_type": "code",
   "execution_count": null,
   "metadata": {},
   "outputs": [],
   "source": [
    "d={3.14:'pigreco', '.-.':'r', 'radice di quattro':2,(0,0):'origine', 'origine':(0,0), 42:{1:'uno', 'uno':1},'vet':[1,2,3]}\n",
    "print(d[3.14])\n",
    "print(d[42]['uno'])\n",
    "print(d[(0,0)])\n",
    "print(d['origine'])\n",
    "print(d['vet'])\n",
    "print(d['vet'][0:2])"
   ]
  },
  {
   "cell_type": "markdown",
   "metadata": {},
   "source": [
    "<details>\n",
    "<summary>Altri metodi per i dizionari.</summary>\n",
    "\n",
    "* **d.keys()** che restituisce lista delle chiavi.\n",
    "* **d.values()** restituisce la lista dei valori.\n",
    "* **d.items()** lista degli elementi come coppie, ovvero tuple di lunghezza 2.\n",
    "* **d.get(index)** per ottene elemento con quel **index** e non fallisce se l'indice non è definito, ma restituisce **None**. Invece **d.get(index, default)** non fallisce se l'indice non è definito, ma restituisce **default**.\n",
    "* **d.pop(index)** o **g.pop(index, default)**  fa una get e toglie l'elemento dal dizionario.\n",
    "* **k in d** controlla se la chiave **k** esiste.\n",
    "* **for k in d** assegna a **k** le chiavi del dizionario.\n",
    "\n",
    "</details>\n",
    "\n",
    "<details>\n",
    "<summary>Alcuni metodi per le stringhe.</summary>\n",
    "\n",
    "* **s.split(sep)** restituisce la lista delle parole presenti nella stringa s. Se non specificato intende come separatore, **sep**, delle parole ogni carattere di spaziatura, pèr esempio **s.split()**.\n",
    "* **s.splitlines()** ritorna la lista delle linee presenti nella stringa.\n",
    "* **s.replace(old,new)** sostituisce la sottostriga old con quella new.\n",
    "* **s.join(iterabile)** attacca insieme tutti gli elementi dell'iterabile (di stringhe), la stringa s viene usata come separatore.\n",
    "\n",
    "Piccolo esempio per capire meglio il **join**\n",
    "```\n",
    "s=\"sempre caro mi fu quest'ermo colle\"\n",
    "t=[\"e\",\"questa\",\"siepe\",\"che\",\"da\",\"tanta\",\"parte\",\"...\"]\n",
    "multiline= '''Egr. sig. Rossi,\n",
    "    e' con viva e vibrante soddisfazione che...\n",
    "    Istituzionalmente Suo, presidente'''\n",
    "print('-'.join(s.split()))\n",
    "print(' '.join(t))\n",
    "```\n",
    "**OUTPUT**<br>\n",
    "sempre-caro-mi-fu-quest'ermo-colle<br>\n",
    "e questa siepe che da tanta parte ...\n",
    "\n",
    "</details>\n",
    "\n",
    "Per effettuare una formattazione delle stringhe e ottenre così un output ordinato bisogna fare uso di una stringa come formato e del metodo **format**, nella stringa di formato le parentesi graffe indicano i punti dove devono essere inseriti i parametri."
   ]
  },
  {
   "cell_type": "code",
   "execution_count": null,
   "metadata": {},
   "outputs": [],
   "source": [
    "print(\"{}/{}/{}\".format(15,'Maggio',2014)) #Le barre / vengono copiate, al posto delle parentesi graffe vengono inseriti i valori del metodo format.\n",
    "\n",
    "print(\"0000000000111111111122222222223333333333\") #utilizzati per vedere il corretto l'allineamento, da ignorare.\n",
    "print(\"0123456789012345678901234567890123456789\") #da ignorare.\n",
    "print(\"{:02d}/{:02d}/{}\".format(15,5,2014)) #{:02d} significa un numero di 2 caratteri, per esempio al 5 viene aggiunto uno 0 davanti.\n",
    "print(\"{:5.2f}\".format(3.1416926)) #{:5.2f} significa 5 caratteri con 2 decimali\n",
    "print(\"{:<10s} {:10s} {:^15s}\".format('Giorgio','Peroni','Italia')) #{...s} significa che si tratta di una stringa. < allinea a sx. > allinea a dx. ^ allinea al centro.\n",
    "print(\"{:<10s} {:10s} {:^15s}\".format('David','Cameron','Regno Unito')) #parametri sostituiti in sequenza\n",
    "print(\"{nome:>10s} {cognome:>10s} {stato:^15s}\".format(nome='Barak',stato='Stati Uniti',cognome='Obama')) #parametri con nome\n",
    "print(\"{1:>10s} {2:>10s} {0:^15s}\".format('Spagna','Mariano','Rehoy')) #parametri in ordine diverso"
   ]
  },
  {
   "cell_type": "markdown",
   "metadata": {},
   "source": [
    "Ci sono anche importanti istruzioni per interrompere l'intero ciclo (**break**) oppure skippare l'iterazione corrente (**continue**).<br>\n",
    "Mentre **pass** è l'istruzione nulla e serve soltanto per mantenere una correttezza sintattica oppure come segna-posto per istruzioni future.\n",
    "\n",
    "Poi si passa ad **iteratori** e **iterabili**  dove qualunque oggetto che può essere trattato come una sequenza può essere definito come un iterabile.<br>\n",
    "Da qui si può dire che ogni oggetto iterabile può generare poi un iteratore ovvero un oggetto che ricorda il suo stato mentre lo si attraversa.<br>\n",
    "Si può infine accedere all'elemento successivo con l'istruzione **next()**. Dopo che un iteratore ha restituito tutti i suoi dati genera un'eccezione se si usa next.\n",
    "Inoltre utilizzando il metodo **list()** è possibile restituire tutti gli elementi di un iteratore in un colpo solo. Per definire un iteratore non solo nel for bisogna utilizzare le classi quindi non approfondirò qua. L'unica cosa che si può dire è che per definire un iteratore su un oggetto predefinito (quindi non su una classe custom creata da noi) si può utilizzare il metodo **iter(oggetto_predefinito)** dove l'oggetto predefinito è come dire un dizionario, un set di valori, ecc...\n",
    "\n",
    "Per esempio nella prossima sezione di codice, \"stagione\" è un iteratore generato tramite il ciclo for sull'iterabile \"stagioni\" (che è una lista):"
   ]
  },
  {
   "cell_type": "code",
   "execution_count": null,
   "metadata": {},
   "outputs": [],
   "source": [
    "stagioni = [\"spring\", \"summer\", \"autumn\", \"winter\"] #questa lista è l'iterabile\n",
    "\n",
    "for stagione in stagioni: #stagione è un iteratore\n",
    "    print (stagione)"
   ]
  },
  {
   "cell_type": "markdown",
   "metadata": {},
   "source": [
    "Si può fare la stessa cosa anche con i dizionari, dove se si usa un iteratore di standard andrà a generarsi sulla chiave dell'iteratore mentre se si mette un set di 2 valori allora si utilizzeranno chiave e valore, per esempio: "
   ]
  },
  {
   "cell_type": "code",
   "execution_count": null,
   "metadata": {},
   "outputs": [],
   "source": [
    "#utilizzo un set di iteratori\n",
    "stagioni = {1:\"spring\", 2:\"summer\", 3:\"autumn\", 4:\"winter\" }\n",
    "for key,value in stagioni.items():\n",
    "    print ( key, value )"
   ]
  },
  {
   "cell_type": "code",
   "execution_count": null,
   "metadata": {},
   "outputs": [],
   "source": [
    "#qui si crea come iteratore di default sul campo chiave del dizionario\n",
    "stagioni = {1:\"spring\", 2:\"summer\", 3:\"autumn\", 4:\"winter\" }\n",
    "for key in stagioni:\n",
    "    print ( key )"
   ]
  },
  {
   "cell_type": "markdown",
   "metadata": {},
   "source": [
    "E' possibile scrivere programmi senza usare l'iterazione, usando solo la ricorsione (e' comune nella **programmazione funzionale**). Sono funzioni che possono richiamare se stessi, quindi possiedono una loro chiamata nella **return**. <br>\n",
    "Esempio di funzione ricorsiva che rappresenta la definizione di fattoriale. Notare anche che è possibile inserire **operatori condizionali** nel **return**."
   ]
  },
  {
   "cell_type": "code",
   "execution_count": null,
   "metadata": {},
   "outputs": [],
   "source": [
    "def fact(x):\n",
    "    return 1 if x<=1 else x*fact(x-1)\n",
    "\n",
    "print(fact(5))"
   ]
  },
  {
   "cell_type": "markdown",
   "metadata": {},
   "source": [
    "Un altro esempio di funzione ricorsiva è la **flatten_list(seq)**, che restituisce la lista appiattita, ovvero senza sottoliste.<br>\n",
    "Vediamo un esempio -> **flatten_list([1,[2,3],[4,[5,6]]])** --> il suo output è **[1,2,3,4,5,6]**"
   ]
  },
  {
   "cell_type": "code",
   "execution_count": null,
   "metadata": {},
   "outputs": [],
   "source": [
    "def flatten(*seq): # in questo modo seq e' la tupla dei parametri\n",
    "    result=[]\n",
    "    def rflat(s):\n",
    "        for el in s:\n",
    "            if hasattr(el,'__getitem__'):\n",
    "                rflat(el)\n",
    "            else:\n",
    "                result.append(el)\n",
    "    if len(seq)==1: seq=seq[0]\n",
    "    rflat(seq)\n",
    "    return type(seq)(result) # result convertito nel tipo di seq\n",
    "if __name__==\"__main__\":\n",
    "    print(eval(input('')))"
   ]
  },
  {
   "cell_type": "markdown",
   "metadata": {},
   "source": [
    "**eval()** esegue il codice nelle sue parentesi\n",
    "\n",
    "Nella **programmazione di ordine superiore** le funzioni possono essere passate come argomenti e restituite come risultato di altre funzioni. Paradigma comune nella programmazione funzionale e anche quella orientata agli oggetti. <br>\n",
    "Le **funzioni di ordine superiori** hanno come parametri o risultato altre funzioni. <br>\n",
    "Un **linguaggio** è detto di **ordine superiore** se ammette funzio sia come parametro che come risultato di altre funzioni.<br>\n",
    "Vediamo un esempio di funzione di ordine superiore."
   ]
  },
  {
   "cell_type": "code",
   "execution_count": null,
   "metadata": {},
   "outputs": [],
   "source": [
    "def print_msg(msg):\n",
    "    # This is the outer enclosing function\n",
    "\n",
    "    def printer():\n",
    "    # This is the nested function\n",
    "    # Questa funzione riesce a vedere e utilizzare la variabile locale msg della funzione che la \"ingloba\", enclosing function!\n",
    "        print(msg)\n",
    "\n",
    "    return printer\n",
    "    \n",
    "# execute the function\n",
    "# Output: Hello\n",
    "print_msg(\"Hello\")()\n",
    "\n",
    "#Proviamo a fare un altro modo e vediamo cosa avviene come output\n",
    "another = print_msg(\"Hello\")\n",
    "another() #OUTPUT: Hello\n",
    "\n",
    "# Proviamo a cancellare la funzione print_msg\n",
    "del print_msg\n",
    "another()"
   ]
  },
  {
   "cell_type": "markdown",
   "metadata": {},
   "source": [
    "Il secondo output **Hello** è sospetto... <br>\n",
    "Ciò funziona perchè la funzione **print_msg()** è stata chiamata passando \"Hello\" e la funzione di ritorno è stata associata al nome **another**, riga 15. Eseguendo la riga 16 il messaggio **\"Hello\"** è rimasto in memoria anche se l'esecuzione della funzione **print_msg()** era già terminata, quindi il dato è rimasto **\"appeso al codice\"**. Questa tecnica in Python prende il nome di **CLOSURE**. <br>\n",
    "Anche il terzo **Hello** risulta strano... <br>\n",
    "Viene stampato la stringa perchè la funzione **another()** continua ad esistere anche se la funzione **originale** è stata cancellata."
   ]
  },
  {
   "cell_type": "markdown",
   "metadata": {},
   "source": [
    "___\n",
    "## Lezione1-3\n",
    "___\n",
    "<details>\n",
    "<summary>ARGOMENTI</summary>\n",
    "\n",
    "* Gestione delle eccezioni\n",
    "* Decoratori\n",
    "* Passaggio di parametri\n",
    "* Passagio dei parametri, *args e **kargs\n",
    "* Namespaces e regole di visibilità (scope)\n",
    "\n",
    "</details>\n",
    "\n",
    "___"
   ]
  },
  {
   "cell_type": "markdown",
   "metadata": {},
   "source": [
    "Riguardo le **eccezioni** c'è una classe madre per l'eccezione generica che contiene un identificatore dell'istanza di eccezione e una rappresentazione dello stack corrente, ovvero l'errore effettivo descritto a parole. Dopo aver identificato l'errore in se esso verrà associato ad una sottoclasse specifica. É però importante notare che le eccezioni non solo possono essere generate **automaticamente** a runtime ma anche **manualmente** tramite i costrutti throw e raise exception. Ovvimanete, se è stato inserito, verrà eseguito il **codice di gestione** altrimenti verrà stampato lo stack e il programma termina. La sintassi del codice di gestione è rappresentata di seguito:\n",
    "```\n",
    "    try:\n",
    "        <Blocco di codice>\n",
    "    except Eccezione e1 :\n",
    "        <Gestisci anomalia>\n",
    "    except Eccezione en :\n",
    "        <Gestisci anomalia>\n",
    "    except:\n",
    "        <Gestisci anomalia di una qualunque eccezione>\n",
    "    else:\n",
    "        <Codice eseguito in assenza di eccezioni>\n",
    "    finally:\n",
    "        <Codice eseguito alla fine del try-except, in ogni caso>\n",
    "```\n",
    "\n",
    "è anche possibile gestire più eccezioni in un singolo except tipo e1,e2,ecc....\n",
    "\n",
    "Come detto le eccezioni non si sollevano solo automaticamente ma anche manualmente per esempio con la parola chiave **raise**: ```raise NameException(arg1,arg2)```, per il recupero degli argomenti: ```except NameException as inst```, dove inst contiene l'istanza dell'eccezione sollevata e inst.args è una tupla che contiene gli argomenti passati"
   ]
  },
  {
   "cell_type": "markdown",
   "metadata": {},
   "source": [
    "Parliamo adesso di **decoratori**, che in poche parole servono a velocizzare la procedura di dover mettere sempre qualcosa prima e dopo delle istruzioni. Quelle stringhe di codice prima e dopo sarebbero il decoratore che però risulta ripetitivo in questo modo, quindi lo si implementa utilizzando l'operatore **@**. Il decoratore viene chiamato anche wrapper, ovvero raggruppatore, infatti l'operatore @ serve a raggrupare alcune funzioni per formare un decoratore. Esso permette all'utente di non dover badare alle operazioni di decorazione, ma vedere soltanto il risultato finale. Per esempio nel codice sottostante si utilizza @time_function che raggruppa la definizione di 2 funzioni una dentro l'altra (in quella più interna c'è il decoratore vero e proprio, ovvero 'start' ed 'end' che decorano l'assegnazione di un valore alla variabile 'value'):\n"
   ]
  },
  {
   "cell_type": "code",
   "execution_count": null,
   "metadata": {},
   "outputs": [],
   "source": [
    "import time, random\n",
    "\n",
    "def time_function(function):\n",
    "    def new_function(*args, **kwargs):\n",
    "        start = time.time()\n",
    "        value = function(*args, **kwargs)\n",
    "        end = time.time()\n",
    "        print (\"ci ha messo \", end - start,\n",
    "        \" secondi\")\n",
    "        return value\n",
    "    return new_function\n",
    "\n",
    "@time_function\n",
    "def func4(x,y,z):\n",
    "    time.sleep( random.random()*x+(y-z) )\n",
    "\n",
    "func4(5,1,1)\n",
    "\n",
    "@time_function\n",
    "def func5(x,y):\n",
    "    time.sleep( random.random()*x + y )\n",
    "\n",
    "func5(5,0)"
   ]
  },
  {
   "cell_type": "markdown",
   "metadata": {},
   "source": [
    "Invece a livello di **argomenti** in python, essi possono essere variabili, ovvero si può assegnare un valore di default in caso di un mancato passaggio, oppure senza valore di default. Utilizziamo degli argomenti opzionali, cioè nella definizione della funzione, un **valore di default** è associato all'argomento opzionale. Se non si esplicita l'argomento al momento della chiamata, il valore assegnato è quello di default, per esempio (se 'complaint' e/o 'retries' non vengono passati allora gli verrà assegnato il valore scritto dopo l'uguale): \n",
    "\n",
    "```def ask_ok( prompt, retries = 4, complaint = 'Yes or no, please!' ):```\n",
    "\n",
    "L'assegnazione di un valore nei parametri può essere usato **anche nella chiamata** e se ciò avviene i parametri possono anche essere messi in un qualsiasi ordine perchè tanto abbiamo specificato noi il parametro da utilizzare col valore passato, per esempio:\n",
    "\n",
    "```\n",
    "def fun(a ,b, c):\n",
    "    return (a + b) * c\n",
    "\n",
    "#facciamo 3 esempi diversi\n",
    "res = fun(a=1,b=2,c=3)\n",
    "res = fun(b=2,c=3,a=1) #scambio l'ordine tanto è uguale\n",
    "res = fun(1,b=2,c=3) #qui non posso cambiare l'ordine #del parametro a, potrei scambiare solo b e c\n",
    "```\n",
    "\n",
    "Quindi i parametri in generale vengono chiamati **keyword arguments** mentre quelli che passiamo senza assegnazione li chiamiamo **positional arguments** in quanto dobbiamo rispettare il corretto ordine dato durante la definizione.\n",
    "\n",
    "Possono anche essere usati gli operatori **\\*** e **\\*\\*** per spacchettare liste o tuple e passare i valori spacchettati come positional arguments nel caso di *, mentre tramite ** si possono spacchettare i dizionari come keyword arguments, per esempio:\n",
    "\n",
    "```\n",
    "complex(*[3, 5]) # è come dire complex(3, 5)  \n",
    "complex(**{'real': 3, 'imag': 5}) #è come dire complex(real=3, imag=5)\n",
    "\n",
    "```\n",
    "\n",
    "Ora parliamo invece dei parametri **\\*args** e **\\*\\*kwargs** che funzionano proprio col principio di spacchettamento appena descritto: se è presente il parametro *args, la funzione riceverà una tupla contenente tutti i positional arguments che seguono quelli corrispondenti a parametri formali con nome Se è presente il parametro **kwargs, la funzione riceverà un dictionary contenente tutti i keyword arguments eccetto quelli che corrispondono a parametri formali con nome. L'obiettivo di args e kwargs è principalmente dare flessibilità nella gestione dei parametri e disaccoppiare il codice di classi e sottoclassi.\n",
    "\n",
    "Continuando con i **namespace** che sono mappature nome - oggetto, vengono usati per mantenere distinti i nomi che assegniamo agli oggetti in zone diverse del programma così da evitare collisioni di\n",
    "nomi ovvero ne garantiscono l'univocità. I namespace sono organizzati in maniera gerarchica e coesistono durante l'esecuzione di un programma. Hanno però cicli di vita differenti.\n",
    "\n",
    "Lo **scope** invece, in base a quale pezzo di codice sta venendo eseguito, indica su quale namespace si basa quel pezzo di codice.\n",
    "\n",
    "Lo scope si divide in: \n",
    "* **built-in** : ovvero lo scope dell'istanza del programma eseguito che contiene le variabili d'ambiente python e quelle definite da noi (è lo scope padre di tutti)\n",
    "* **global scope** : contiene le variabili globali e quelle locali nel pezzo di codice valutato\n",
    "* **enclosed scope** : contiene le variabili non locali della funzione corrente, ovvero le variabili allocate da una funzione padre (la funzione locale è quindi innestata). Le variabili della funzione padre non sono ne global ne local, perciò vengono chiamate enclosed o non-local\n",
    "* **local scope** : contiene solo le variabili locali della funzione corrente\n",
    "\n",
    "Esempio grafico:\n",
    "\n",
    "<img src=\"immagini/scope.jpg\" width=\"200\" height=\"200\"></img>\n",
    "\n",
    "Esistono funzioni built-in per vedere tutte le variabili di un determinato scope per esempio: **locals()** , **globals()**.\n",
    "Entrambe restituiscono un dictionary avente come chiavi gli\n",
    "identificatori e come valori i valori delle entità associate."
   ]
  },
  {
   "cell_type": "markdown",
   "metadata": {},
   "source": [
    "___\n",
    "## Lezione2-0\n",
    "___\n",
    "<details>\n",
    "<summary>ARGOMENTI</summary>\n",
    "\n",
    "* Files\n",
    "* Passaggio di parametri (ref vs val vs objref)\n",
    "* Cenni sull'uso e creazione di moduli\n",
    "* Classi e oggetti, oggetti first-class\n",
    "* Metodi e attributi\n",
    "* Protocollo di creazione degli oggetti, i metodi\n",
    "\\_\\_new\\_\\_ e \\_\\_init\\_\\_\n",
    "\n",
    "</details>\n",
    "\n",
    "___\n",
    "\n",
    "Riguardo ai file, sulle unita' di memorizzazione (dischi/chiavette, etc) i dati sono registrati in **blocchi** contenenti sequenze di lunghezza fissa composte da byte. Risulta essere una visione comoda. Ogni file ha **almeno** un nome e per individuarlo occorre definire un pathname. <br>\n",
    "Al fine di evitare di specificare sempre il percorso a partire dalla radice ogni processo ha una **current working directory** ed eredita la stessa directory di lavoro del processo che l'ha attivato.<br>\n",
    "Per aprire un file si usa l'istruzione **open** e per chiuderlo si usa il metodo **close**. Open possiede due parametri, uno è il **pathname** l'altro invece specifica il **modo di apertura**, ovvero se in lettura o in scrittura. \n",
    "\n",
    "Guardiamo ora come effettuare la lettura di un file.\n",
    "```fd=open(\"miofile\",\"r\")``` -> Il valore di uscita è il descrittore del file. <br>\n",
    "```filecontents=fd.read()``` -> Così si può leggere l'intero file in una stringa. <br>\n",
    "```fileline=fd.readline()``` -> Lettura di una riga, ripetere per leggere righe successive. <br>\n",
    "```for line in fd``` -> L'utilizzo del descrittore di un ciclo ci permette di usare il file come una sequenza e a ogni iterazione l'iteratore **line** sarà istanziato ad una riga del file. <br>\n",
    "```fd.close()``` -> Chiusura del file.\n",
    "\n",
    "Osserviamo ora come fare la scrittura di un file. <br>\n",
    "```fd=open(\"miofile\",\"r\")``` -> Il valore di uscita è il descrittore del file. <br>\n",
    "```fd.write(s)``` -> Scrittura di una stringa nel file. <br>\n",
    "```print(\"hello world\", file=fd)``` -> Possibile sono in python3 l'utilizzo di **file=** nella print. <br>\n",
    "```fd.close()``` -> Chiusura del file.\n",
    "\n",
    "Vi è una possibilità alternativa di apertura e chiusura del file, ovvero:\n",
    "```\n",
    "with open(\"miofile\",\"r\") as fd:\n",
    "    ...\n",
    "```\n",
    "Tramite l'utilizzo dell'istruzione **with** e nel blocco dipendente si ha che **fd** è il descrittore del file aperto, in caso di errore il blocco non viene eseguito e il file viene chiuso alla fine del blocco. <br>\n",
    "Vediamo un esempio. **NB: il path da inserire è il seguente ./filePerEsecuzione/infinito.txt**\n"
   ]
  },
  {
   "cell_type": "code",
   "execution_count": null,
   "metadata": {},
   "outputs": [],
   "source": [
    "path=input(\"type in the pathname, please: \")\n",
    "words={}\n",
    "with open(path,'r') as fd:\n",
    "    for n,l in enumerate(fd):\n",
    "        for w in l.split():\n",
    "            w=w.lower()\n",
    "            words[w]=(words.get(w,[]))+[n+1]\n",
    "for w in sorted(words.keys()):\n",
    "    print(\"{}: {}\".format(w,words[w][0]),end='')\n",
    "    for l in words[w][1:]:\n",
    "        print(\", {}\".format(l),end=\"\")\n",
    "    print()"
   ]
  },
  {
   "cell_type": "markdown",
   "metadata": {},
   "source": [
    "Per il passaggio di parametri vediamo due esempi. <br>\n",
    "**ESEMPIO 1**"
   ]
  },
  {
   "cell_type": "code",
   "execution_count": null,
   "metadata": {},
   "outputs": [],
   "source": [
    "def cambia( x ):\n",
    "    print(x) #ovviamente [0]\n",
    "    x=[1,2,3]\n",
    "    print(x) #ovviamente [1 ,2 ,3]\n",
    "x=[0]\n",
    "cambia(x)\n",
    "print(x) #ovviamente [0]"
   ]
  },
  {
   "cell_type": "markdown",
   "metadata": {},
   "source": [
    "**ESEMPIO 2**"
   ]
  },
  {
   "cell_type": "code",
   "execution_count": null,
   "metadata": {},
   "outputs": [],
   "source": [
    "def cambia( x ):\n",
    "    print(x) #ovviamente [0]\n",
    "    x.append(1)\n",
    "    print(x) #ovviamente [0]\n",
    "x=[0]\n",
    "cambia(x)\n",
    "print(x) #ovviamente... [0] o [0, 1]?"
   ]
  },
  {
   "cell_type": "markdown",
   "metadata": {},
   "source": [
    "In python **la variabile non è l'oggetto**, viene fatta distinzione fra una cosa e l'etichetta che usiamo per riferirci a quella cosa. Facciamo un piccolo esempio... <br>\n",
    "```a=[]``` <br>\n",
    "La lista vuota è **[]**, invece **a** è la variabile che punta alla lista vuota, **NON E' LA LISTA VUOTA**, è come una scatola che contiene l'oggetto.\n",
    "\n",
    "In python viene effettuato il **pass-by-object-reference** e come abbiamo visto i riferimento agli oggetti sono passati per valore. Quindi una funzione riceve il **riferimento allo stesso oggetto in memoria** usato dalla funzione chiamante, ma non con la stessa \"scatola\". Come nella metodologia **pass-by-value** la funzione deve costruirsi la propria \"scatola\" e crearsi una propria variabile.\n",
    "\n",
    "Quindi nell'esempio 1 si hanno due variabili **x** che fanno riferimento a **2 oggetti differenti**, ovvero [0] e [1, 2, 3]. <br>\n",
    "Invece nell'esempio 2 si hanno due variabili **x** che fanno riferimento allo **stesso oggetto**, ovvero [0].\n",
    "\n",
    "Vediamo ulteriori esempi."
   ]
  },
  {
   "cell_type": "code",
   "execution_count": null,
   "metadata": {},
   "outputs": [],
   "source": [
    "listA = [0]\n",
    "listB = listA\n",
    "listB.append(1)\n",
    "print(listA) #Cosa stamperà?\n",
    "listB is listA #Saranno la stessa cosa?"
   ]
  },
  {
   "cell_type": "code",
   "execution_count": null,
   "metadata": {},
   "outputs": [],
   "source": [
    "def assegna( aohhh ):\n",
    "    print(aohhh, aohhh.__dir__, aohhh is list) #qui aohhh è ancora list\n",
    "    aohhh=[1,2,3] #ora aohhh fa riferimento ad un oggetto diverso a quello di list\n",
    "    print(aohhh, aohhh.__dir__, aohhh is list) #infatti aohhh non è più list\n",
    "list=[0] #definizione di list\n",
    "print( list , list.__dir__ ) #stampa di list\n",
    "assegna( list ) #chiamata ad assegna\n",
    "print( list , list.__dir__ ) #list fa riferimento sempre a [0]"
   ]
  },
  {
   "cell_type": "code",
   "execution_count": null,
   "metadata": {},
   "outputs": [],
   "source": [
    "#Invece in questo esempio list e aohhh continuano a far riferimento allo STESSO OGGETTO, ovvero [0]\n",
    "#Che poi verrà alterato tramite l'utilizzo di append ed extend!\n",
    "def usa( aohhh ):\n",
    "    print(aohhh, aohhh.__dir__, aohhh is list)\n",
    "    aohhh.append( 4 ) # 1 valore\n",
    "    aohhh.extend( (1,2,3) ) # piu' valori\n",
    "    print(aohhh, aohhh.__dir__, aohhh is list)\n",
    "list=[0]\n",
    "print( list , list.__dir__ )\n",
    "usa( list )\n",
    "print( list , list.__dir__ )"
   ]
  },
  {
   "cell_type": "markdown",
   "metadata": {},
   "source": [
    "Parliamo ora di **moduli** e **librerie**.\n",
    "I moduli sono **file sorgente** separati che implementano parti specifiche e un insieme di moduli che risolvono problemi correlati possono essere raccolti in un **package**, tanti package possono formare una **libreria**.\n",
    "\n",
    "Ogni sorgente può essere un modulo e un programma che lo vuole utilizzare deve importarlo: <br>\n",
    "```import nome_modulo``` <br>\n",
    "Sarà possibile accedere alle sue funzioni nel seguente modo: <br>\n",
    "```nome_modulo.nome_funzione_del_modulo```\n",
    "\n",
    "Vediamo un esempio grafico: <br>\n",
    "<img src=\"immagini/moduli-e-package.png\" width=\"436\" height=\"273\"></img>\n",
    "\n",
    "\n",
    "Vediamo un esempio applicato... il file duplica.py contiene il seguente codice:\n",
    "```\n",
    "def doppio(x):\n",
    "    #doppio(x) restituisce il doppio del parametro\n",
    "    return 2*x\n",
    "# programma di prova:\n",
    "if __name__==\"__main__\":\n",
    "    for i in range(10):\n",
    "        print(doppio(i))\n",
    "```\n"
   ]
  },
  {
   "cell_type": "code",
   "execution_count": null,
   "metadata": {},
   "outputs": [],
   "source": [
    "import duplica\n",
    "print(duplica.doppio(1))\n",
    "print(duplica.doppio(10))\n",
    "print(duplica.doppio(3))"
   ]
  },
  {
   "cell_type": "markdown",
   "metadata": {},
   "source": [
    "La programmazione ad oggetti permette di definire nuovi **tipi di dato**, ovvero classi di oggetti. Ogni oggetto ha le proprie caratteristiche, gli **attributi**, e le proprie funzionalità, cioè i **metodi**. <br>\n",
    "E' possibile creare **gerarchie di classi** e usare gli oggetti come **attributi** di altri oggetti. <br>\n",
    "**Python è un linguaggio ad oggetti**.\n",
    "\n",
    "Il metodo **\\_\\_init\\_\\_** è il costruttore della classe. <br>\n",
    "La parola riservata **self** è il riferimento all'oggetto corrente, tramite il quale si può accedere ad i campi ed è il primo parametro di **ogni metodo** della classe, ma non deve essere passato dal chiamante!\n",
    "\n",
    "Il metodo **\\_\\_new\\_\\_** verrà chiamato quando viene **creato un oggetto**, invece il metodo **\\_\\_init\\_\\_** verrà chiamato per **inizializzare l'oggetto**.\n",
    "\n",
    "Nell'oggetto della classe base, il metodo **\\_\\_new\\_\\_** è definito come un\n",
    "**metodo statico** che richiede il passaggio di un parametro **cls**, che rappresenta la classe di cui è necessario creare un'istanza e\n",
    "l'interprete fornisce automaticamente questo parametro.\n",
    "\n",
    "Ogni volta che viene istanziata una classe, vengono chiamati i\n",
    "metodi **\\_\\_new\\_\\_(creazione obj)** e **\\_\\_init\\_\\_(inizializzazione obj)**:\n",
    "* **\\_\\_new\\_\\_** è il primo passaggio della creazione dell'istanza e ritorna la classe.\n",
    "* **\\_\\_init\\_\\_** non restituisce nulla (**None**); è responsabile\n",
    "solo dell'inizializzazione dell'istanza dopo che è stata creata."
   ]
  },
  {
   "cell_type": "code",
   "execution_count": null,
   "metadata": {},
   "outputs": [],
   "source": [
    "# N.B. il padre di TestNew e' object\n",
    "class TestNew(object):\n",
    "    def __new__(cls):\n",
    "        print(\"Creo l'instanza\")\n",
    "        return super( TestNew , cls ).__new__(cls)\n",
    "    def __init__(self):\n",
    "        print(\"Invoco Init\")\n",
    "TestNew()"
   ]
  },
  {
   "cell_type": "markdown",
   "metadata": {},
   "source": [
    "Se nella classe sono presenti sia il metodo **\\_\\_init\\_\\_** che il metodo **\\_\\_new\\_\\_**, allora il metodo **\\_\\_new\\_\\_** viene eseguito per primo e decide se usare o meno il metodo **\\_\\_init\\_\\_**, dato che **\\_\\_new\\_\\_** potrebbe usare altri costruttori di classe, oppure potrebbe\n",
    "semplicemente restituire altri oggetti come istanza di questa classe. <br>\n",
    "Invece il metodo **\\_\\_init\\_\\_** viene chiamato ogni volta che un'**istanza della classe** viene\n",
    "restituita dal metodo **\\_\\_new\\_\\_**, passando l'istanza restituita a **\\_\\_init\\_\\_** come\n",
    "parametro **self**. <br>\n",
    "**Se ometto super il metodo \\_\\_init\\_\\_ non viene invocato!**\n",
    "\n",
    "E se **\\_\\_init\\_\\_** e **\\_\\_new\\_\\_** ritornassero entrambi un valore, quindi non **None**? <br>\n",
    "Semplicemente ti otterrebbe un errore del tipo: **\\_\\_init\\_\\_() should return None, non ....**\n",
    "\n",
    "<details>\n",
    "<summary>Piccolo Esercizio: Implementare una classe Stack con i metodi push, pop e is_empty</summary>\n",
    "\n",
    "**Soluzione:** <br>\n",
    "\n",
    "```\n",
    "class Stack:\n",
    "    # Class initializer\n",
    "    def __init__(self):\n",
    "        self.values=[]\n",
    "    # Push a value on top of the stack\n",
    "    def push(self,value):\n",
    "        self.values.append(value)\n",
    "    # Return the value on top\n",
    "    def pop(self):\n",
    "        if len(self.values) > 0:\n",
    "            return self.values.pop()\n",
    "        else:\n",
    "            raise ValueError\n",
    "    # Check if there are elements in the stack\n",
    "    def is_empty(self):\n",
    "        return (len(self.values) == 0)\n",
    "```\n",
    "\n",
    "</details>\n",
    "\n",
    "___\n",
    "## Lezione2-1\n",
    "___\n",
    "<details>\n",
    "<summary>ARGOMENTI</summary>\n",
    "\n",
    "* Information hiding\n",
    "* Overloading degli operatori\n",
    "* Property e metodi getter e setter\n",
    "* Protocollo di accesso agli attributi\n",
    "* Altri metodi magici e relative costruzionib sintattiche\n",
    "* Ereditarietà multipla, metaclassi, il metodo \\_\\_call\\_\\_, decorazione con le classi\n",
    "* Metodi e classi astratte\n",
    "\n",
    "\n",
    "</details>\n",
    "\n",
    "___\n",
    "\n",
    "I python è possibile definire **metodi privati**, al fine di impedirne l'utilizzo all'esterno della **classe**. Se il nome di un **metodo** o **attributo** inizia, **ma non finisce**, con 2 **underscore** è privato. <br>\n",
    "Vediamo un piccolo esempio -> ```def __MyPrivateFunction():```\n",
    "\n",
    "Riguardo all'**information hiding** in python **nulla è realmente protetto**. In generale:\n",
    "* **Metodi** o **routine** che iniziano per un **underscore** sono considerati privati, ma **nulla le protegge** realmente.\n",
    "* **Metodi** che iniziano con 2 **underscore** sono privati e **parzialmente** protetti quando la classe viene estesa.\n",
    "* I **metodi speciali** iniziano e finiscono con 2 **underscore**.\n",
    "\n",
    "<details>\n",
    "<summary>Alcuni metodi speciali</summary>\n",
    "\n",
    "* **\\_\\_init\\_\\_**, il costruttore.\n",
    "* **\\_\\_repr\\_\\_**, per la rappresentazione.\n",
    "* **\\_\\_getattr\\_\\_**, per emulare l’accesso ad una attributo.\n",
    "* **\\_\\_getitem\\_\\_**, per emulare un tipo contenitore, tipo le liste.\n",
    "* **\\_\\_add\\_\\_**, **\\_\\_mul\\_\\_**, etc., per emulare somme, moltiplicazioni etc.\n",
    "* **\\_\\_call\\_\\_**, l'oggetto può essere chiamato come una funzione.\n",
    "* **\\_\\_str\\_\\_**, converte un oggetto in una stringa.\n",
    "* **\\_\\_del\\_\\_**, per distruggere la classe.\n",
    "* **\\_\\_{ eq , gt, ge, lt, le }\\_\\_**, per verificare se un valore è { =, >, >=, <, <= } ad un altro.\n",
    "* **\\_\\_setitem\\_\\_**, come operatore [] in uscita.\n",
    "\n",
    "</details>\n",
    "\n",
    "Con il comando ```help(MiaClasse)``` siamo in grado di vedere quali **metodi speciali** sono associati a una **classe** o **oggetto**. Quando in una classe si **implementa** un **metodo speciale**,la classe **emula un operatore del linguaggio**. Questo approccio è detto **overloading** dell'operatore. <br>\n",
    "\n",
    "Un piccolo appunto su **self**, esso non deve per forza essere chiamato self, lo si può chiamare come si preferisce, ma deve essere il **primo parametro** di qualsiasi metodo nella classe. <br>\n",
    "Vediamo un esempio:"
   ]
  },
  {
   "cell_type": "code",
   "execution_count": null,
   "metadata": {},
   "outputs": [],
   "source": [
    "class check:\n",
    "    def __init__(provaMySelf):\n",
    "        print(\"Address of self = \",id(provaMySelf))\n",
    "obj = check()\n",
    "print(\"Address of class object = \",id(obj))\n",
    "obj2 = check()\n",
    "print(\"Address of class object = \",id(obj2))"
   ]
  },
  {
   "cell_type": "markdown",
   "metadata": {},
   "source": [
    "Ritornando sul concetto di **information hiding** vediamo un esempio per capire meglio:"
   ]
  },
  {
   "cell_type": "code",
   "execution_count": null,
   "metadata": {},
   "outputs": [],
   "source": [
    "class Esempio:\n",
    "    __privato = 0\n",
    "    def inc(self):\n",
    "        self.__privato += 1\n",
    "        print(self.__privato)\n",
    "Es = Esempio()\n",
    "Es.inc()\n",
    "Es.inc()\n",
    "# provare ad accedere a __privato\n",
    "print(Es.__privato)"
   ]
  },
  {
   "cell_type": "markdown",
   "metadata": {},
   "source": [
    "Da errore, quindi esiste la privacy! In realtà si può accedere alla variabile privata facendo uso del **protocollo**:"
   ]
  },
  {
   "cell_type": "code",
   "execution_count": null,
   "metadata": {},
   "outputs": [],
   "source": [
    "class Esempio:\n",
    "    __privato = 0\n",
    "    def inc(self):\n",
    "        self.__privato += 1\n",
    "        print(self.__privato)\n",
    "Es = Esempio()\n",
    "Es.inc()\n",
    "Es.inc()\n",
    "# provare ad accedere a __privato\n",
    "print(Es._Esempio__privato)"
   ]
  },
  {
   "cell_type": "markdown",
   "metadata": {},
   "source": [
    "Non è possibile fare **l'assegnazione** nella dichiarazione di una variabile **nonlocal**.\n",
    "\n",
    "Riguardo al **information hiding** osserviamo i pro e i contro:\n",
    "* PRO\n",
    "    * Prevenire danni o uso improprio dei dati volatili.\n",
    "    * Gli oggetti di calsse vengono disconnessi dai dati irrilevanti.\n",
    "    * Isola gli oggetti come concetto bade dell'OOP\n",
    "    * Aumenta la sicurezza\n",
    "* CONTRO\n",
    "    * Più codice per nascondere i dati più importanti.\n",
    "    * Facendo information hiding l'accesso al dato è più complesso e richiede un collegamento esterno.\n",
    "\n",
    "Con la funzione **hasattr()** possiamo verificare se una classe ha un attributo o un metodo con un particolare nome, per esempio ```hasattr(nomeclasse,'nomeattributo')```, la funzione in output restituisce un valore **booleano**. Il primo argomento **deve** essere il **nome di una classe**.\n"
   ]
  },
  {
   "cell_type": "code",
   "execution_count": null,
   "metadata": {},
   "outputs": [],
   "source": [
    "class Prova:\n",
    "    attributo = 50\n",
    "    def test():\n",
    "        print('ciao')\n",
    "\n",
    "print(hasattr(Prova, 'test'))\n",
    "print(hasattr(Prova, 'attributo'))\n",
    "print(hasattr(Prova, 'nonce'))"
   ]
  },
  {
   "cell_type": "markdown",
   "metadata": {},
   "source": [
    "La funzione **setattr()** permette di modificare un attributo di una classe dall'esterno, per esempio ```setattr(nomeclasse, 'nomeattributo', valore)```. ***DA FINIRE, MANCA UN PICCOLO APPUNTO QUI!!!!!!!***<br>\n",
    "Invece, **getattr()** permette di ricevere un attributo di una classe dall'esterno, per esempio ```getattr(nomeclasse, 'nomeattributo')```.\n",
    "Vediamo un esempio del loro uso:"
   ]
  },
  {
   "cell_type": "code",
   "execution_count": null,
   "metadata": {},
   "outputs": [],
   "source": [
    "class Prova:\n",
    "    nome = \"Gli\"\n",
    "    cognome = \"Intoccabili\"\n",
    "    def __getattribute__(self, name):\n",
    "        if name in (\"nome\", \"cognome\"):\n",
    "            return \"Peccato %s non e' modificabile\" % name\n",
    "        else:\n",
    "            return super(Prova, self).__getattribute__(name)\n",
    "\n",
    "    def __setattr__(self, name, value):\n",
    "        if name in (\"nome\", \"cognome\"):\n",
    "            msg = \"Peccato %s non e' modificabile\" % name\n",
    "            raise AttributeError(msg)\n",
    "        else:\n",
    "            super().__setattr__(name, value)\n",
    "\n",
    "P = Prova()\n",
    "print( P.nome , P.cognome ) # la funzione __getattribute__ ritorna la stringa presente nell'if\n",
    "getattr( P , 'nome' ) # name in questo caso è uguale a nome, quinid l'if si triggera\n",
    "setattr( P , 'cognome' , 'Pippo' ) # E' normale che questo restituisca un errore, a causa del raise."
   ]
  },
  {
   "cell_type": "markdown",
   "metadata": {},
   "source": [
    "Nozione: **\\_\\_dict\\_\\_** ci permette di accedere al dizionario degli attributi di una classe.\n",
    "***DA FINIRE QUA !!!!!!!!!!!!!!!!!!!!!!!!!!!!!!!!!!!!!!!!!!!!!!!!!!!!!!!!!!!!!!!!!!!!!!!!!!!!!***"
   ]
  },
  {
   "cell_type": "code",
   "execution_count": null,
   "metadata": {},
   "outputs": [],
   "source": [
    "# INSERIRE CODICE DI PAPERINO\n",
    "\n",
    "\n",
    "# Abbiamo init che quando effettua l'assegnazione fa utilizzo del metodo __setattr__(), quindi non va buon fine\n",
    "# e dato che studente dovrebbe ritornare l'istanza di studente, ma a causa dell'eccezione non la ritorna"
   ]
  },
  {
   "cell_type": "markdown",
   "metadata": {},
   "source": [
    "Invece, **@property** è un decoratore integrato per la **funzione property()**, al fine di fornire funzionalità speciali........\n",
    "\n",
    "In python è possibile creare gerarchie di classe e supporta l'ereditarietà multipla, per indicare la classe padre si scrive nel seguente modo: <br>```class figlia(padre)```.\n",
    "\n",
    "I metodi della classe genitore si accedono tramite **super()** e per controllare se un oggetto appartiene ad una classe che discende da quella data si usa **isinstance()**."
   ]
  },
  {
   "cell_type": "code",
   "execution_count": null,
   "metadata": {},
   "outputs": [],
   "source": [
    "# Inserire esempio della gerarchia delle classi\n",
    "\n",
    "# anche codice dell'ereditarietà multipla\n",
    "\n",
    "#io = Me()\n",
    "#io.work() da errore perchè è richiamabile solo dall'instanza stessa\n",
    "# si possono invocare funzioni senza argomento self solo se si invocano tramite le classi e non le istanze."
   ]
  },
  {
   "cell_type": "markdown",
   "metadata": {},
   "source": [
    "Nozione: **\\_\\_mro\\_\\_**, va chiamato su una classe e non sull'istanza della classe. Quello che fa è creare una struttura gerarchia dei padri della classe.\n",
    "\n",
    "----- Inserire qua quello commentanto sopra ----\n",
    "\n",
    "----- Capire meglio slide classi metodi statici e di classe, da mettere qua ----\n",
    "\n",
    "Scriviamo il codice di una classe che conta quante istanze di se stessa sono state create."
   ]
  },
  {
   "cell_type": "code",
   "execution_count": null,
   "metadata": {},
   "outputs": [],
   "source": [
    "class Contami():\n",
    "    conta=0\n",
    "    def __init__(self):\n",
    "        Contami.aumenta()\n",
    "    \n",
    "    def aumenta():\n",
    "        Contami.conta += 1\n",
    "\n",
    "p1 = Contami()\n",
    "print(Contami.conta)\n",
    "p2 = Contami()\n",
    "print(Contami.conta)\n",
    "p2 = Contami() # p2 era già istanziato\n",
    "print(Contami.conta) # conta anche quelle 'non attive'"
   ]
  },
  {
   "cell_type": "markdown",
   "metadata": {},
   "source": [
    "----- Capire meglio slide classi metodi statici e di classe 2.0, da mettere qua ----\n",
    "\n",
    "----- Capire meglio slide classi metodi statici e di classe 3.0, da mettere qua, c'è un errore... quel metodo è statico ----\n",
    "\n",
    "----- altra slide impossibile da riassumere, otrppo veloce ------"
   ]
  },
  {
   "cell_type": "code",
   "execution_count": null,
   "metadata": {},
   "outputs": [],
   "source": [
    "# Inserire esempio con classe SPAM"
   ]
  },
  {
   "cell_type": "markdown",
   "metadata": {},
   "source": [
    "I metodi di una classe possono essere **definiti fuori la classe stessa**. Vediamo un piccolo esempio:"
   ]
  },
  {
   "cell_type": "code",
   "execution_count": null,
   "metadata": {},
   "outputs": [],
   "source": [
    "def f1(self, x, y): # Capire perchè funziona, chiedere a davido\n",
    "    return min(x, x+y)\n",
    "\n",
    "class C:\n",
    "    f=f1\n",
    "\n",
    "    def g(self):\n",
    "        return 'Ciao Mondo!'\n",
    "\n",
    "c = C()\n",
    "print(c.f(2,3))"
   ]
  },
  {
   "cell_type": "code",
   "execution_count": null,
   "metadata": {},
   "outputs": [],
   "source": [
    "# Inserire parte di codice nella slide successiva, presenta molti casi e fa il punto della situazione\n",
    "\n",
    "# Usando la funzione dir(b) possiamo raggiungere....."
   ]
  },
  {
   "cell_type": "markdown",
   "metadata": {},
   "source": [
    "!!!!!!!!!!!!!!Fare toggle dei metodi di classe speciali!!!!!!!!!!!!!!!!!!!!!!!!!!!!! <br>\n",
    "Fare **classe1 == classe2** è simile ad usare **classe1 is classe2**. Si utilizza \\_\\_cmp\\_\\_ per effettuare il confronto tra classi\n",
    "\n",
    "Si possono anche definire **metodi privati** che non possono essere ...............................................\n",
    "\n",
    "//Slide ripetuta, da saltare\n",
    "\n",
    "-- Slide da recuperare --\n",
    "\n",
    "//Altra slide da saltare, riprendere da slide con indirizzi link, che fa riferimento alla doc di phyton3\n",
    "\n",
    "Vabbè rifattele a casa pirla\n",
    "\n",
    "exception non è la classe radice\n",
    "\n",
    "classe base = classe padre\n",
    "\n",
    "// qua ho giocato a chess.com\n",
    "\n"
   ]
  }
 ],
 "metadata": {
  "kernelspec": {
   "display_name": "Python 3.10.7 64-bit",
   "language": "python",
   "name": "python3"
  },
  "language_info": {
   "codemirror_mode": {
    "name": "ipython",
    "version": 3
   },
   "file_extension": ".py",
   "mimetype": "text/x-python",
   "name": "python",
   "nbconvert_exporter": "python",
   "pygments_lexer": "ipython3",
   "version": "3.10.7"
  },
  "vscode": {
   "interpreter": {
    "hash": "30d8d699fd77481b7ffeef9bacef4a7f00208d92ac1bf84a4fd2a13d369866b4"
   }
  }
 },
 "nbformat": 4,
 "nbformat_minor": 0
}
